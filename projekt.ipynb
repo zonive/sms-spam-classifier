{
 "cells": [
  {
   "cell_type": "code",
   "execution_count": 1,
   "id": "5c2642bd",
   "metadata": {},
   "outputs": [],
   "source": [
    "#Usunąć # przy pobieraniu"
   ]
  },
  {
   "cell_type": "code",
   "execution_count": 2,
   "id": "2e2fea50",
   "metadata": {},
   "outputs": [],
   "source": [
    "import pandas as pd\n",
    "import matplotlib.pyplot as plt\n",
    "import numpy as np\n",
    "import nltk\n",
    "from nltk.corpus import stopwords\n",
    "from nltk.stem import PorterStemmer\n",
    "import re\n",
    "from textblob import TextBlob\n",
    "from textblob import Word\n",
    "#from gensim.scripts.glove2word2vec import glove2word2vec\n",
    "#from gensim.models import KeyedVectors\n",
    "from sklearn.feature_extraction.text import TfidfTransformer, TfidfVectorizer, CountVectorizer\n",
    "from sklearn import model_selection, preprocessing, linear_model, naive_bayes, metrics, svm, decomposition, ensemble\n",
    "from sklearn.metrics import precision_recall_fscore_support, classification_report, confusion_matrix, accuracy_score\n",
    "#from sklearn.ensemble import RandomForestClassifier\n",
    "from sklearn.naive_bayes import MultinomialNB\n",
    "#import string, xgboost\n",
    "#from keras.preprocessing import text, sequence\n",
    "#from keras import layers, models, optimizers"
   ]
  },
  {
   "cell_type": "code",
   "execution_count": 3,
   "id": "d7a5ea11",
   "metadata": {},
   "outputs": [],
   "source": [
    "#Delete unnecesary column and chech length of messeage\n",
    "normal = pd.read_csv('spam.csv', encoding = 'latin-1')\n",
    "normal.drop(['Unnamed: 2', 'Unnamed: 3', 'Unnamed: 4'], axis=1, inplace=True)\n",
    "normal.columns = ['label', 'content']"
   ]
  },
  {
   "cell_type": "code",
   "execution_count": 4,
   "id": "925e8ba0",
   "metadata": {},
   "outputs": [],
   "source": [
    "#stats"
   ]
  },
  {
   "cell_type": "code",
   "execution_count": 5,
   "id": "9e4de960",
   "metadata": {},
   "outputs": [],
   "source": [
    "#Length of message\n",
    "normal['char_count'] = normal['content'].apply(len)\n",
    "#Counting words\n",
    "normal['word_count'] = normal['content'].apply(lambda x: len(str(x).split(\" \")))"
   ]
  },
  {
   "cell_type": "code",
   "execution_count": 6,
   "id": "ad966472",
   "metadata": {},
   "outputs": [],
   "source": [
    "#Length of average word in message\n",
    "def avg_word_len(sentence):\n",
    "    words = sentence.split()\n",
    "    return (sum(len(word) for word in words)/len(words))\n",
    "\n",
    "normal['avg_word_len'] = normal['content'].apply(lambda x: avg_word_len(x))"
   ]
  },
  {
   "cell_type": "code",
   "execution_count": 7,
   "id": "8d7ecbd2",
   "metadata": {},
   "outputs": [],
   "source": [
    "#Counting stopwords\n",
    "#nltk.download('stopwords')\n",
    "stop = stopwords.words('english')\n",
    "\n",
    "normal['stopwords_count'] = normal['content'].apply(lambda x : len([x for x in x.split() if x in stop]))"
   ]
  },
  {
   "cell_type": "code",
   "execution_count": 8,
   "id": "3bcc6d8b",
   "metadata": {},
   "outputs": [
    {
     "data": {
      "text/html": [
       "<div>\n",
       "<style scoped>\n",
       "    .dataframe tbody tr th:only-of-type {\n",
       "        vertical-align: middle;\n",
       "    }\n",
       "\n",
       "    .dataframe tbody tr th {\n",
       "        vertical-align: top;\n",
       "    }\n",
       "\n",
       "    .dataframe thead th {\n",
       "        text-align: right;\n",
       "    }\n",
       "</style>\n",
       "<table border=\"1\" class=\"dataframe\">\n",
       "  <thead>\n",
       "    <tr style=\"text-align: right;\">\n",
       "      <th></th>\n",
       "      <th>label</th>\n",
       "      <th>content</th>\n",
       "      <th>char_count</th>\n",
       "      <th>word_count</th>\n",
       "      <th>avg_word_len</th>\n",
       "      <th>stopwords_count</th>\n",
       "      <th>specials_count</th>\n",
       "      <th>numerics_count</th>\n",
       "      <th>uppers_count</th>\n",
       "    </tr>\n",
       "  </thead>\n",
       "  <tbody>\n",
       "    <tr>\n",
       "      <th>0</th>\n",
       "      <td>ham</td>\n",
       "      <td>Go until jurong point, crazy.. Available only ...</td>\n",
       "      <td>111</td>\n",
       "      <td>20</td>\n",
       "      <td>4.600000</td>\n",
       "      <td>4</td>\n",
       "      <td>28</td>\n",
       "      <td>0</td>\n",
       "      <td>0</td>\n",
       "    </tr>\n",
       "    <tr>\n",
       "      <th>1</th>\n",
       "      <td>ham</td>\n",
       "      <td>Ok lar... Joking wif u oni...</td>\n",
       "      <td>29</td>\n",
       "      <td>6</td>\n",
       "      <td>4.000000</td>\n",
       "      <td>0</td>\n",
       "      <td>11</td>\n",
       "      <td>0</td>\n",
       "      <td>0</td>\n",
       "    </tr>\n",
       "    <tr>\n",
       "      <th>2</th>\n",
       "      <td>spam</td>\n",
       "      <td>Free entry in 2 a wkly comp to win FA Cup fina...</td>\n",
       "      <td>155</td>\n",
       "      <td>28</td>\n",
       "      <td>4.571429</td>\n",
       "      <td>5</td>\n",
       "      <td>33</td>\n",
       "      <td>2</td>\n",
       "      <td>2</td>\n",
       "    </tr>\n",
       "    <tr>\n",
       "      <th>3</th>\n",
       "      <td>ham</td>\n",
       "      <td>U dun say so early hor... U c already then say...</td>\n",
       "      <td>49</td>\n",
       "      <td>11</td>\n",
       "      <td>3.545455</td>\n",
       "      <td>2</td>\n",
       "      <td>16</td>\n",
       "      <td>0</td>\n",
       "      <td>2</td>\n",
       "    </tr>\n",
       "    <tr>\n",
       "      <th>4</th>\n",
       "      <td>ham</td>\n",
       "      <td>Nah I don't think he goes to usf, he lives aro...</td>\n",
       "      <td>61</td>\n",
       "      <td>13</td>\n",
       "      <td>3.769231</td>\n",
       "      <td>5</td>\n",
       "      <td>14</td>\n",
       "      <td>0</td>\n",
       "      <td>1</td>\n",
       "    </tr>\n",
       "  </tbody>\n",
       "</table>\n",
       "</div>"
      ],
      "text/plain": [
       "  label                                            content  char_count  \\\n",
       "0   ham  Go until jurong point, crazy.. Available only ...         111   \n",
       "1   ham                      Ok lar... Joking wif u oni...          29   \n",
       "2  spam  Free entry in 2 a wkly comp to win FA Cup fina...         155   \n",
       "3   ham  U dun say so early hor... U c already then say...          49   \n",
       "4   ham  Nah I don't think he goes to usf, he lives aro...          61   \n",
       "\n",
       "   word_count  avg_word_len  stopwords_count  specials_count  numerics_count  \\\n",
       "0          20      4.600000                4              28               0   \n",
       "1           6      4.000000                0              11               0   \n",
       "2          28      4.571429                5              33               2   \n",
       "3          11      3.545455                2              16               0   \n",
       "4          13      3.769231                5              14               0   \n",
       "\n",
       "   uppers_count  \n",
       "0             0  \n",
       "1             0  \n",
       "2             2  \n",
       "3             2  \n",
       "4             1  "
      ]
     },
     "execution_count": 8,
     "metadata": {},
     "output_type": "execute_result"
    }
   ],
   "source": [
    "#Counting specials and  numeric chars\n",
    "normal['specials_count'] = normal['content'].apply(lambda x: len(re.sub('[\\w]+', '', x)))\n",
    "normal['numerics_count'] = normal['content'].apply(lambda x: len([x for x in x.split() if x.isdigit()]))\n",
    "\n",
    "#Counting words with only upper letters\n",
    "normal['uppers_count'] = normal['content'].apply(lambda x: len([x for x in x.split() if x.isupper()]))\n",
    "\n",
    "normal.head()"
   ]
  },
  {
   "cell_type": "code",
   "execution_count": 9,
   "id": "539e2e1a",
   "metadata": {},
   "outputs": [],
   "source": [
    "#Histograms"
   ]
  },
  {
   "cell_type": "code",
   "execution_count": 10,
   "id": "1c7f951c",
   "metadata": {},
   "outputs": [
    {
     "data": {
      "image/png": "[encoded data removed]",
      "text/plain": [
       "<Figure size 1080x432 with 1 Axes>"
      ]
     },
     "metadata": {
      "needs_background": "light"
     },
     "output_type": "display_data"
    }
   ],
   "source": [
    "%matplotlib inline\n",
    "plt.figure(figsize=(15,6))\n",
    "\n",
    "bins = np.linspace(0, 200, num = 40)\n",
    "plt.hist(normal[normal['label'] == 'spam']['char_count'], bins, alpha = 0.5, label = 'spam')\n",
    "plt.hist(normal[normal['label'] == 'ham']['char_count'], bins, alpha = 0.5, label = 'ham')\n",
    "plt.legend(loc ='upper right')\n",
    "plt.xlabel('chars')\n",
    "plt.ylabel('messages')\n",
    "plt.show()"
   ]
  },
  {
   "cell_type": "code",
   "execution_count": 11,
   "id": "3b1dd0e9",
   "metadata": {},
   "outputs": [],
   "source": [
    "plt.close('all')"
   ]
  },
  {
   "cell_type": "code",
   "execution_count": 12,
   "id": "a24ecb28",
   "metadata": {},
   "outputs": [
    {
     "data": {
      "image/png": "[encoded data removed]",
      "text/plain": [
       "<Figure size 432x288 with 1 Axes>"
      ]
     },
     "metadata": {
      "needs_background": "light"
     },
     "output_type": "display_data"
    }
   ],
   "source": [
    "bins = np.linspace(0, 100, num = 30)\n",
    "plt.hist(normal[normal['label'] == 'spam']['word_count'], bins, alpha = 0.5, label = 'spam')\n",
    "plt.hist(normal[normal['label'] == 'ham']['word_count'], bins, alpha = 0.5, label = 'ham')\n",
    "plt.legend(loc ='upper right')\n",
    "plt.xlabel('words')\n",
    "plt.ylabel('messages')\n",
    "plt.show()"
   ]
  },
  {
   "cell_type": "code",
   "execution_count": 13,
   "id": "c06cd5ed",
   "metadata": {},
   "outputs": [],
   "source": [
    "plt.close('all')"
   ]
  },
  {
   "cell_type": "code",
   "execution_count": 14,
   "id": "aa5a7247",
   "metadata": {},
   "outputs": [
    {
     "data": {
      "image/png": "[encoded data removed]",
      "text/plain": [
       "<Figure size 432x288 with 1 Axes>"
      ]
     },
     "metadata": {
      "needs_background": "light"
     },
     "output_type": "display_data"
    }
   ],
   "source": [
    "bins = np.linspace(0, 20, num = 20)\n",
    "plt.hist(normal[normal['label'] == 'spam']['avg_word_len'], bins, alpha = 0.5, label = 'spam')\n",
    "plt.hist(normal[normal['label'] == 'ham']['avg_word_len'], bins, alpha = 0.5, label = 'ham')\n",
    "plt.legend(loc ='upper right')\n",
    "plt.xlabel('avg_word_len')\n",
    "plt.ylabel('messages')\n",
    "plt.show()"
   ]
  },
  {
   "cell_type": "code",
   "execution_count": 15,
   "id": "23e87d4a",
   "metadata": {},
   "outputs": [],
   "source": [
    "plt.close('all')"
   ]
  },
  {
   "cell_type": "code",
   "execution_count": 16,
   "id": "2b71db2d",
   "metadata": {},
   "outputs": [
    {
     "data": {
      "image/png": "[encoded data removed]",
      "text/plain": [
       "<Figure size 432x288 with 1 Axes>"
      ]
     },
     "metadata": {
      "needs_background": "light"
     },
     "output_type": "display_data"
    }
   ],
   "source": [
    "bins = np.linspace(0, 40, num = 15)\n",
    "plt.hist(normal[normal['label'] == 'spam']['stopwords_count'], bins, alpha = 0.5, label = 'spam')\n",
    "plt.hist(normal[normal['label'] == 'ham']['stopwords_count'], bins, alpha = 0.5, label = 'ham')\n",
    "plt.legend(loc ='upper right')\n",
    "plt.xlabel('stopwords')\n",
    "plt.ylabel('messages')\n",
    "plt.show()"
   ]
  },
  {
   "cell_type": "code",
   "execution_count": 17,
   "id": "22b77e30",
   "metadata": {},
   "outputs": [],
   "source": [
    "plt.close('all')"
   ]
  },
  {
   "cell_type": "code",
   "execution_count": 18,
   "id": "2cc8b580",
   "metadata": {},
   "outputs": [
    {
     "data": {
      "image/png": "[encoded data removed]",
      "text/plain": [
       "<Figure size 432x288 with 1 Axes>"
      ]
     },
     "metadata": {
      "needs_background": "light"
     },
     "output_type": "display_data"
    }
   ],
   "source": [
    "bins = np.linspace(0, 100, num = 20)\n",
    "plt.hist(normal[normal['label'] == 'spam']['specials_count'], bins, alpha = 0.5, label = 'spam')\n",
    "plt.hist(normal[normal['label'] == 'ham']['specials_count'], bins, alpha = 0.5, label = 'ham')\n",
    "plt.legend(loc ='upper right')\n",
    "plt.xlabel('specials')\n",
    "plt.ylabel('messages')\n",
    "plt.show()"
   ]
  },
  {
   "cell_type": "code",
   "execution_count": 19,
   "id": "65a1f3d1",
   "metadata": {},
   "outputs": [],
   "source": [
    "plt.close('all')"
   ]
  },
  {
   "cell_type": "code",
   "execution_count": 20,
   "id": "2cc20288",
   "metadata": {},
   "outputs": [
    {
     "data": {
      "image/png": "[encoded data removed]",
      "text/plain": [
       "<Figure size 432x288 with 1 Axes>"
      ]
     },
     "metadata": {
      "needs_background": "light"
     },
     "output_type": "display_data"
    }
   ],
   "source": [
    "bins = np.linspace(0, 6, num = 5)\n",
    "plt.hist(normal[normal['label'] == 'spam']['numerics_count'], bins, alpha = 0.5, label = 'spam')\n",
    "plt.hist(normal[normal['label'] == 'ham']['numerics_count'], bins, alpha = 0.5, label = 'ham')\n",
    "plt.legend(loc ='upper right')\n",
    "plt.xlabel('numerics')\n",
    "plt.ylabel('messages')\n",
    "plt.show()"
   ]
  },
  {
   "cell_type": "code",
   "execution_count": 21,
   "id": "b3cb3990",
   "metadata": {},
   "outputs": [],
   "source": [
    "plt.close('all')"
   ]
  },
  {
   "cell_type": "code",
   "execution_count": 22,
   "id": "bf3b4bf0",
   "metadata": {},
   "outputs": [
    {
     "data": {
      "image/png": "[encoded data removed]",
      "text/plain": [
       "<Figure size 432x288 with 1 Axes>"
      ]
     },
     "metadata": {
      "needs_background": "light"
     },
     "output_type": "display_data"
    }
   ],
   "source": [
    "bins = np.linspace(0, 30, num = 15)\n",
    "plt.hist(normal[normal['label'] == 'spam']['uppers_count'], bins, alpha = 0.5, label = 'spam')\n",
    "plt.hist(normal[normal['label'] == 'ham']['uppers_count'], bins, alpha = 0.5, label = 'ham')\n",
    "plt.legend(loc ='upper right')\n",
    "plt.xlabel('uppers')\n",
    "plt.ylabel('messages')\n",
    "plt.show()"
   ]
  },
  {
   "cell_type": "code",
   "execution_count": 23,
   "id": "bbe1f065",
   "metadata": {},
   "outputs": [
    {
     "data": {
      "text/html": [
       "<style  type=\"text/css\" >\n",
       "#T_63735_row0_col0,#T_63735_row1_col1,#T_63735_row2_col2,#T_63735_row3_col3,#T_63735_row4_col4,#T_63735_row5_col5,#T_63735_row6_col6{\n",
       "            background-color:  #023858;\n",
       "            color:  #f1f1f1;\n",
       "        }#T_63735_row0_col1{\n",
       "            background-color:  #023e62;\n",
       "            color:  #f1f1f1;\n",
       "        }#T_63735_row0_col2{\n",
       "            background-color:  #dbdaeb;\n",
       "            color:  #000000;\n",
       "        }#T_63735_row0_col3{\n",
       "            background-color:  #0568a3;\n",
       "            color:  #f1f1f1;\n",
       "        }#T_63735_row0_col4{\n",
       "            background-color:  #034369;\n",
       "            color:  #f1f1f1;\n",
       "        }#T_63735_row0_col5{\n",
       "            background-color:  #b4c4df;\n",
       "            color:  #000000;\n",
       "        }#T_63735_row0_col6,#T_63735_row1_col6{\n",
       "            background-color:  #c2cbe2;\n",
       "            color:  #000000;\n",
       "        }#T_63735_row1_col0,#T_63735_row4_col1{\n",
       "            background-color:  #023f64;\n",
       "            color:  #f1f1f1;\n",
       "        }#T_63735_row1_col2{\n",
       "            background-color:  #f4eef6;\n",
       "            color:  #000000;\n",
       "        }#T_63735_row1_col3{\n",
       "            background-color:  #045f95;\n",
       "            color:  #f1f1f1;\n",
       "        }#T_63735_row1_col4{\n",
       "            background-color:  #034165;\n",
       "            color:  #f1f1f1;\n",
       "        }#T_63735_row1_col5,#T_63735_row5_col0,#T_63735_row5_col4{\n",
       "            background-color:  #c1cae2;\n",
       "            color:  #000000;\n",
       "        }#T_63735_row2_col0,#T_63735_row2_col1,#T_63735_row2_col3,#T_63735_row2_col4,#T_63735_row2_col6,#T_63735_row3_col2,#T_63735_row3_col5{\n",
       "            background-color:  #fff7fb;\n",
       "            color:  #000000;\n",
       "        }#T_63735_row2_col5{\n",
       "            background-color:  #faf2f8;\n",
       "            color:  #000000;\n",
       "        }#T_63735_row3_col0{\n",
       "            background-color:  #0771b1;\n",
       "            color:  #f1f1f1;\n",
       "        }#T_63735_row3_col1{\n",
       "            background-color:  #046299;\n",
       "            color:  #f1f1f1;\n",
       "        }#T_63735_row3_col4{\n",
       "            background-color:  #0a73b2;\n",
       "            color:  #f1f1f1;\n",
       "        }#T_63735_row3_col6{\n",
       "            background-color:  #fdf5fa;\n",
       "            color:  #000000;\n",
       "        }#T_63735_row4_col0{\n",
       "            background-color:  #03446a;\n",
       "            color:  #f1f1f1;\n",
       "        }#T_63735_row4_col2{\n",
       "            background-color:  #eae6f1;\n",
       "            color:  #000000;\n",
       "        }#T_63735_row4_col3{\n",
       "            background-color:  #056caa;\n",
       "            color:  #f1f1f1;\n",
       "        }#T_63735_row4_col5{\n",
       "            background-color:  #c8cde4;\n",
       "            color:  #000000;\n",
       "        }#T_63735_row4_col6{\n",
       "            background-color:  #c6cce3;\n",
       "            color:  #000000;\n",
       "        }#T_63735_row5_col1{\n",
       "            background-color:  #abbfdc;\n",
       "            color:  #000000;\n",
       "        }#T_63735_row5_col2{\n",
       "            background-color:  #dfddec;\n",
       "            color:  #000000;\n",
       "        }#T_63735_row5_col3{\n",
       "            background-color:  #e6e2ef;\n",
       "            color:  #000000;\n",
       "        }#T_63735_row5_col6{\n",
       "            background-color:  #ced0e6;\n",
       "            color:  #000000;\n",
       "        }#T_63735_row6_col0{\n",
       "            background-color:  #d9d8ea;\n",
       "            color:  #000000;\n",
       "        }#T_63735_row6_col1{\n",
       "            background-color:  #b8c6e0;\n",
       "            color:  #000000;\n",
       "        }#T_63735_row6_col2{\n",
       "            background-color:  #eee9f3;\n",
       "            color:  #000000;\n",
       "        }#T_63735_row6_col3{\n",
       "            background-color:  #ece7f2;\n",
       "            color:  #000000;\n",
       "        }#T_63735_row6_col4{\n",
       "            background-color:  #cccfe5;\n",
       "            color:  #000000;\n",
       "        }#T_63735_row6_col5{\n",
       "            background-color:  #d7d6e9;\n",
       "            color:  #000000;\n",
       "        }</style><table id=\"T_63735_\" ><thead>    <tr>        <th class=\"blank level0\" ></th>        <th class=\"col_heading level0 col0\" >char_count</th>        <th class=\"col_heading level0 col1\" >word_count</th>        <th class=\"col_heading level0 col2\" >avg_word_len</th>        <th class=\"col_heading level0 col3\" >stopwords_count</th>        <th class=\"col_heading level0 col4\" >specials_count</th>        <th class=\"col_heading level0 col5\" >numerics_count</th>        <th class=\"col_heading level0 col6\" >uppers_count</th>    </tr></thead><tbody>\n",
       "                <tr>\n",
       "                        <th id=\"T_63735_level0_row0\" class=\"row_heading level0 row0\" >char_count</th>\n",
       "                        <td id=\"T_63735_row0_col0\" class=\"data row0 col0\" >1.000000</td>\n",
       "                        <td id=\"T_63735_row0_col1\" class=\"data row0 col1\" >0.974318</td>\n",
       "                        <td id=\"T_63735_row0_col2\" class=\"data row0 col2\" >0.082962</td>\n",
       "                        <td id=\"T_63735_row0_col3\" class=\"data row0 col3\" >0.764622</td>\n",
       "                        <td id=\"T_63735_row0_col4\" class=\"data row0 col4\" >0.959271</td>\n",
       "                        <td id=\"T_63735_row0_col5\" class=\"data row0 col5\" >0.354412</td>\n",
       "                        <td id=\"T_63735_row0_col6\" class=\"data row0 col6\" >0.274843</td>\n",
       "            </tr>\n",
       "            <tr>\n",
       "                        <th id=\"T_63735_level0_row1\" class=\"row_heading level0 row1\" >word_count</th>\n",
       "                        <td id=\"T_63735_row1_col0\" class=\"data row1 col0\" >0.974318</td>\n",
       "                        <td id=\"T_63735_row1_col1\" class=\"data row1 col1\" >1.000000</td>\n",
       "                        <td id=\"T_63735_row1_col2\" class=\"data row1 col2\" >-0.068013</td>\n",
       "                        <td id=\"T_63735_row1_col3\" class=\"data row1 col3\" >0.820570</td>\n",
       "                        <td id=\"T_63735_row1_col4\" class=\"data row1 col4\" >0.968128</td>\n",
       "                        <td id=\"T_63735_row1_col5\" class=\"data row1 col5\" >0.316421</td>\n",
       "                        <td id=\"T_63735_row1_col6\" class=\"data row1 col6\" >0.276789</td>\n",
       "            </tr>\n",
       "            <tr>\n",
       "                        <th id=\"T_63735_level0_row2\" class=\"row_heading level0 row2\" >avg_word_len</th>\n",
       "                        <td id=\"T_63735_row2_col0\" class=\"data row2 col0\" >0.082962</td>\n",
       "                        <td id=\"T_63735_row2_col1\" class=\"data row2 col1\" >-0.068013</td>\n",
       "                        <td id=\"T_63735_row2_col2\" class=\"data row2 col2\" >1.000000</td>\n",
       "                        <td id=\"T_63735_row2_col3\" class=\"data row2 col3\" >-0.149520</td>\n",
       "                        <td id=\"T_63735_row2_col4\" class=\"data row2 col4\" >0.004025</td>\n",
       "                        <td id=\"T_63735_row2_col5\" class=\"data row2 col5\" >0.064222</td>\n",
       "                        <td id=\"T_63735_row2_col6\" class=\"data row2 col6\" >-0.020014</td>\n",
       "            </tr>\n",
       "            <tr>\n",
       "                        <th id=\"T_63735_level0_row3\" class=\"row_heading level0 row3\" >stopwords_count</th>\n",
       "                        <td id=\"T_63735_row3_col0\" class=\"data row3 col0\" >0.764622</td>\n",
       "                        <td id=\"T_63735_row3_col1\" class=\"data row3 col1\" >0.820570</td>\n",
       "                        <td id=\"T_63735_row3_col2\" class=\"data row3 col2\" >-0.149520</td>\n",
       "                        <td id=\"T_63735_row3_col3\" class=\"data row3 col3\" >1.000000</td>\n",
       "                        <td id=\"T_63735_row3_col4\" class=\"data row3 col4\" >0.736301</td>\n",
       "                        <td id=\"T_63735_row3_col5\" class=\"data row3 col5\" >0.029095</td>\n",
       "                        <td id=\"T_63735_row3_col6\" class=\"data row3 col6\" >-0.005583</td>\n",
       "            </tr>\n",
       "            <tr>\n",
       "                        <th id=\"T_63735_level0_row4\" class=\"row_heading level0 row4\" >specials_count</th>\n",
       "                        <td id=\"T_63735_row4_col0\" class=\"data row4 col0\" >0.959271</td>\n",
       "                        <td id=\"T_63735_row4_col1\" class=\"data row4 col1\" >0.968128</td>\n",
       "                        <td id=\"T_63735_row4_col2\" class=\"data row4 col2\" >0.004025</td>\n",
       "                        <td id=\"T_63735_row4_col3\" class=\"data row4 col3\" >0.736301</td>\n",
       "                        <td id=\"T_63735_row4_col4\" class=\"data row4 col4\" >1.000000</td>\n",
       "                        <td id=\"T_63735_row4_col5\" class=\"data row4 col5\" >0.297234</td>\n",
       "                        <td id=\"T_63735_row4_col6\" class=\"data row4 col6\" >0.264779</td>\n",
       "            </tr>\n",
       "            <tr>\n",
       "                        <th id=\"T_63735_level0_row5\" class=\"row_heading level0 row5\" >numerics_count</th>\n",
       "                        <td id=\"T_63735_row5_col0\" class=\"data row5 col0\" >0.354412</td>\n",
       "                        <td id=\"T_63735_row5_col1\" class=\"data row5 col1\" >0.316421</td>\n",
       "                        <td id=\"T_63735_row5_col2\" class=\"data row5 col2\" >0.064222</td>\n",
       "                        <td id=\"T_63735_row5_col3\" class=\"data row5 col3\" >0.029095</td>\n",
       "                        <td id=\"T_63735_row5_col4\" class=\"data row5 col4\" >0.297234</td>\n",
       "                        <td id=\"T_63735_row5_col5\" class=\"data row5 col5\" >1.000000</td>\n",
       "                        <td id=\"T_63735_row5_col6\" class=\"data row5 col6\" >0.242672</td>\n",
       "            </tr>\n",
       "            <tr>\n",
       "                        <th id=\"T_63735_level0_row6\" class=\"row_heading level0 row6\" >uppers_count</th>\n",
       "                        <td id=\"T_63735_row6_col0\" class=\"data row6 col0\" >0.274843</td>\n",
       "                        <td id=\"T_63735_row6_col1\" class=\"data row6 col1\" >0.276789</td>\n",
       "                        <td id=\"T_63735_row6_col2\" class=\"data row6 col2\" >-0.020014</td>\n",
       "                        <td id=\"T_63735_row6_col3\" class=\"data row6 col3\" >-0.005583</td>\n",
       "                        <td id=\"T_63735_row6_col4\" class=\"data row6 col4\" >0.264779</td>\n",
       "                        <td id=\"T_63735_row6_col5\" class=\"data row6 col5\" >0.242672</td>\n",
       "                        <td id=\"T_63735_row6_col6\" class=\"data row6 col6\" >1.000000</td>\n",
       "            </tr>\n",
       "    </tbody></table>"
      ],
      "text/plain": [
       "<pandas.io.formats.style.Styler at 0x1abdba73c10>"
      ]
     },
     "execution_count": 23,
     "metadata": {},
     "output_type": "execute_result"
    }
   ],
   "source": [
    "corr = normal.corr()\n",
    "corr.style.background_gradient()"
   ]
  },
  {
   "cell_type": "code",
   "execution_count": 24,
   "id": "b2d1205c",
   "metadata": {},
   "outputs": [],
   "source": [
    "#Text processing"
   ]
  },
  {
   "cell_type": "code",
   "execution_count": 25,
   "id": "dea9b088",
   "metadata": {},
   "outputs": [
    {
     "name": "stderr",
     "output_type": "stream",
     "text": [
      "<ipython-input-25-5b82003daf36>:7: FutureWarning: The default value of regex will change from True to False in a future version.\n",
      "  normal['content'] = normal['content'].str.replace('[^\\w\\s]','')\n"
     ]
    }
   ],
   "source": [
    "#save date before processing to comparize\n",
    "normal['backup'] = normal['content']\n",
    "\n",
    "#toLower\n",
    "normal['content'] = normal['content'].apply(lambda x: \" \".join(x.lower() for x in x.split()))\n",
    "#remove specials\n",
    "normal['content'] = normal['content'].str.replace('[^\\w\\s]','')\n",
    "#remove stopwords\n",
    "normal['content'] = normal['content'].apply(lambda x: \" \".join(x for x in x.split() if x not in stop))"
   ]
  },
  {
   "cell_type": "code",
   "execution_count": 26,
   "id": "5ad1fae0",
   "metadata": {},
   "outputs": [
    {
     "data": {
      "text/plain": [
       "u       1119\n",
       "call     576\n",
       "2        478\n",
       "im       462\n",
       "get      386\n",
       "ur       384\n",
       "4        287\n",
       "dont     279\n",
       "go       278\n",
       "ok       277\n",
       "dtype: int64"
      ]
     },
     "execution_count": 26,
     "metadata": {},
     "output_type": "execute_result"
    }
   ],
   "source": [
    "#remove often used words\n",
    "freq = pd.Series(' '.join(normal['content']).split()).value_counts()[:10]\n",
    "freq"
   ]
  },
  {
   "cell_type": "code",
   "execution_count": 27,
   "id": "6b14005e",
   "metadata": {},
   "outputs": [
    {
     "data": {
      "text/plain": [
       "0    jurong point crazy available bugis n great wor...\n",
       "1                                   lar joking wif oni\n",
       "2    free entry wkly comp win fa cup final tkts 21s...\n",
       "3                      dun say early hor c already say\n",
       "4               nah think goes usf lives around though\n",
       "Name: content, dtype: object"
      ]
     },
     "execution_count": 27,
     "metadata": {},
     "output_type": "execute_result"
    }
   ],
   "source": [
    "freq = list(freq.index)\n",
    "normal['content'] = normal['content'].apply(lambda x: \" \".join(x for x in x.split() if x not in freq))\n",
    "normal['content'].head()"
   ]
  },
  {
   "cell_type": "code",
   "execution_count": 28,
   "id": "0efde490",
   "metadata": {},
   "outputs": [
    {
     "data": {
      "text/plain": [
       "popping         1\n",
       "outsider        1\n",
       "cliffs          1\n",
       "asian           1\n",
       "nicky           1\n",
       "messagepandy    1\n",
       "loooooool       1\n",
       "tadaaaaa        1\n",
       "todayhe         1\n",
       "forfeit         1\n",
       "dtype: int64"
      ]
     },
     "execution_count": 28,
     "metadata": {},
     "output_type": "execute_result"
    }
   ],
   "source": [
    "#remove rarely used words\n",
    "freq = pd.Series(' '.join(normal['content']).split()).value_counts()[-10:]\n",
    "freq"
   ]
  },
  {
   "cell_type": "code",
   "execution_count": 29,
   "id": "4f705c46",
   "metadata": {},
   "outputs": [
    {
     "data": {
      "text/plain": [
       "0    jurong point crazy available bugis n great wor...\n",
       "1                                   lar joking wif oni\n",
       "2    free entry wkly comp win fa cup final tkts 21s...\n",
       "3                      dun say early hor c already say\n",
       "4               nah think goes usf lives around though\n",
       "Name: content, dtype: object"
      ]
     },
     "execution_count": 29,
     "metadata": {},
     "output_type": "execute_result"
    }
   ],
   "source": [
    "freq = list(freq.index)\n",
    "normal['content'] = normal['content'].apply(lambda x: \" \".join(x for x in x.split() if x not in freq))\n",
    "normal['content'].head()"
   ]
  },
  {
   "cell_type": "code",
   "execution_count": 30,
   "id": "59b3c602",
   "metadata": {},
   "outputs": [],
   "source": [
    "#repair messages\n",
    "#normal['content'][:5].apply(lambda x: str(TextBlob(x).correct()))"
   ]
  },
  {
   "cell_type": "code",
   "execution_count": 31,
   "id": "7038aba9",
   "metadata": {},
   "outputs": [],
   "source": [
    "#Stemming\n",
    "#st = PorterStemmer()\n",
    "#normal['content'] = normal['content'][:5].apply(lambda x: \" \".join([st.stem(word) for word in x.split()]))"
   ]
  },
  {
   "cell_type": "code",
   "execution_count": 32,
   "id": "dc1c8c87",
   "metadata": {},
   "outputs": [
    {
     "data": {
      "text/plain": [
       "WordList(['lar', 'joking', 'wif', 'oni'])"
      ]
     },
     "execution_count": 32,
     "metadata": {},
     "output_type": "execute_result"
    }
   ],
   "source": [
    "#Tokenization\n",
    "#nltk.download('punkt')\n",
    "TextBlob(normal['content'][1]).words"
   ]
  },
  {
   "cell_type": "code",
   "execution_count": 33,
   "id": "04c2ce16",
   "metadata": {},
   "outputs": [],
   "source": [
    "#Lemmatisation\n",
    "#nltk.download('wordnet')\n",
    "normal['content'] = normal['content'].apply(lambda x: \" \".join([Word(word).lemmatize() for word in x.split()]))"
   ]
  },
  {
   "cell_type": "code",
   "execution_count": 34,
   "id": "0b8ab8ad",
   "metadata": {},
   "outputs": [
    {
     "data": {
      "text/html": [
       "<div>\n",
       "<style scoped>\n",
       "    .dataframe tbody tr th:only-of-type {\n",
       "        vertical-align: middle;\n",
       "    }\n",
       "\n",
       "    .dataframe tbody tr th {\n",
       "        vertical-align: top;\n",
       "    }\n",
       "\n",
       "    .dataframe thead th {\n",
       "        text-align: right;\n",
       "    }\n",
       "</style>\n",
       "<table border=\"1\" class=\"dataframe\">\n",
       "  <thead>\n",
       "    <tr style=\"text-align: right;\">\n",
       "      <th></th>\n",
       "      <th>content</th>\n",
       "      <th>backup</th>\n",
       "    </tr>\n",
       "  </thead>\n",
       "  <tbody>\n",
       "    <tr>\n",
       "      <th>0</th>\n",
       "      <td>jurong point crazy available bugis n great wor...</td>\n",
       "      <td>Go until jurong point, crazy.. Available only ...</td>\n",
       "    </tr>\n",
       "    <tr>\n",
       "      <th>1</th>\n",
       "      <td>lar joking wif oni</td>\n",
       "      <td>Ok lar... Joking wif u oni...</td>\n",
       "    </tr>\n",
       "    <tr>\n",
       "      <th>2</th>\n",
       "      <td>free entry wkly comp win fa cup final tkts 21s...</td>\n",
       "      <td>Free entry in 2 a wkly comp to win FA Cup fina...</td>\n",
       "    </tr>\n",
       "    <tr>\n",
       "      <th>3</th>\n",
       "      <td>dun say early hor c already say</td>\n",
       "      <td>U dun say so early hor... U c already then say...</td>\n",
       "    </tr>\n",
       "    <tr>\n",
       "      <th>4</th>\n",
       "      <td>nah think go usf life around though</td>\n",
       "      <td>Nah I don't think he goes to usf, he lives aro...</td>\n",
       "    </tr>\n",
       "    <tr>\n",
       "      <th>5</th>\n",
       "      <td>freemsg hey darling 3 week word back id like f...</td>\n",
       "      <td>FreeMsg Hey there darling it's been 3 week's n...</td>\n",
       "    </tr>\n",
       "    <tr>\n",
       "      <th>6</th>\n",
       "      <td>even brother like speak treat like aid patent</td>\n",
       "      <td>Even my brother is not like to speak with me. ...</td>\n",
       "    </tr>\n",
       "    <tr>\n",
       "      <th>7</th>\n",
       "      <td>per request melle melle oru minnaminunginte nu...</td>\n",
       "      <td>As per your request 'Melle Melle (Oru Minnamin...</td>\n",
       "    </tr>\n",
       "    <tr>\n",
       "      <th>8</th>\n",
       "      <td>winner valued network customer selected receiv...</td>\n",
       "      <td>WINNER!! As a valued network customer you have...</td>\n",
       "    </tr>\n",
       "    <tr>\n",
       "      <th>9</th>\n",
       "      <td>mobile 11 month r entitled update latest colou...</td>\n",
       "      <td>Had your mobile 11 months or more? U R entitle...</td>\n",
       "    </tr>\n",
       "    <tr>\n",
       "      <th>10</th>\n",
       "      <td>gonna home soon want talk stuff anymore tonigh...</td>\n",
       "      <td>I'm gonna be home soon and i don't want to tal...</td>\n",
       "    </tr>\n",
       "    <tr>\n",
       "      <th>11</th>\n",
       "      <td>six chance win cash 100 20000 pound txt csh11 ...</td>\n",
       "      <td>SIX chances to win CASH! From 100 to 20,000 po...</td>\n",
       "    </tr>\n",
       "    <tr>\n",
       "      <th>12</th>\n",
       "      <td>urgent 1 week free membership å100000 prize ja...</td>\n",
       "      <td>URGENT! You have won a 1 week FREE membership ...</td>\n",
       "    </tr>\n",
       "    <tr>\n",
       "      <th>13</th>\n",
       "      <td>ive searching right word thank breather promis...</td>\n",
       "      <td>I've been searching for the right words to tha...</td>\n",
       "    </tr>\n",
       "    <tr>\n",
       "      <th>14</th>\n",
       "      <td>date sunday</td>\n",
       "      <td>I HAVE A DATE ON SUNDAY WITH WILL!!</td>\n",
       "    </tr>\n",
       "    <tr>\n",
       "      <th>15</th>\n",
       "      <td>xxxmobilemovieclub use credit click wap link n...</td>\n",
       "      <td>XXXMobileMovieClub: To use your credit, click ...</td>\n",
       "    </tr>\n",
       "    <tr>\n",
       "      <th>16</th>\n",
       "      <td>oh kim watching</td>\n",
       "      <td>Oh k...i'm watching here:)</td>\n",
       "    </tr>\n",
       "    <tr>\n",
       "      <th>17</th>\n",
       "      <td>eh remember spell name yes v naughty make v wet</td>\n",
       "      <td>Eh u remember how 2 spell his name... Yes i di...</td>\n",
       "    </tr>\n",
       "    <tr>\n",
       "      <th>18</th>\n",
       "      <td>fine thatåõs way feel thatåõs way gota b</td>\n",
       "      <td>Fine if thatåÕs the way u feel. ThatåÕs the wa...</td>\n",
       "    </tr>\n",
       "    <tr>\n",
       "      <th>19</th>\n",
       "      <td>england v macedonia miss goalsteam news txt na...</td>\n",
       "      <td>England v Macedonia - dont miss the goals/team...</td>\n",
       "    </tr>\n",
       "  </tbody>\n",
       "</table>\n",
       "</div>"
      ],
      "text/plain": [
       "                                              content  \\\n",
       "0   jurong point crazy available bugis n great wor...   \n",
       "1                                  lar joking wif oni   \n",
       "2   free entry wkly comp win fa cup final tkts 21s...   \n",
       "3                     dun say early hor c already say   \n",
       "4                 nah think go usf life around though   \n",
       "5   freemsg hey darling 3 week word back id like f...   \n",
       "6       even brother like speak treat like aid patent   \n",
       "7   per request melle melle oru minnaminunginte nu...   \n",
       "8   winner valued network customer selected receiv...   \n",
       "9   mobile 11 month r entitled update latest colou...   \n",
       "10  gonna home soon want talk stuff anymore tonigh...   \n",
       "11  six chance win cash 100 20000 pound txt csh11 ...   \n",
       "12  urgent 1 week free membership å100000 prize ja...   \n",
       "13  ive searching right word thank breather promis...   \n",
       "14                                        date sunday   \n",
       "15  xxxmobilemovieclub use credit click wap link n...   \n",
       "16                                    oh kim watching   \n",
       "17    eh remember spell name yes v naughty make v wet   \n",
       "18           fine thatåõs way feel thatåõs way gota b   \n",
       "19  england v macedonia miss goalsteam news txt na...   \n",
       "\n",
       "                                               backup  \n",
       "0   Go until jurong point, crazy.. Available only ...  \n",
       "1                       Ok lar... Joking wif u oni...  \n",
       "2   Free entry in 2 a wkly comp to win FA Cup fina...  \n",
       "3   U dun say so early hor... U c already then say...  \n",
       "4   Nah I don't think he goes to usf, he lives aro...  \n",
       "5   FreeMsg Hey there darling it's been 3 week's n...  \n",
       "6   Even my brother is not like to speak with me. ...  \n",
       "7   As per your request 'Melle Melle (Oru Minnamin...  \n",
       "8   WINNER!! As a valued network customer you have...  \n",
       "9   Had your mobile 11 months or more? U R entitle...  \n",
       "10  I'm gonna be home soon and i don't want to tal...  \n",
       "11  SIX chances to win CASH! From 100 to 20,000 po...  \n",
       "12  URGENT! You have won a 1 week FREE membership ...  \n",
       "13  I've been searching for the right words to tha...  \n",
       "14                I HAVE A DATE ON SUNDAY WITH WILL!!  \n",
       "15  XXXMobileMovieClub: To use your credit, click ...  \n",
       "16                         Oh k...i'm watching here:)  \n",
       "17  Eh u remember how 2 spell his name... Yes i di...  \n",
       "18  Fine if thatåÕs the way u feel. ThatåÕs the wa...  \n",
       "19  England v Macedonia - dont miss the goals/team...  "
      ]
     },
     "execution_count": 34,
     "metadata": {},
     "output_type": "execute_result"
    }
   ],
   "source": [
    "normal[['content', 'backup']].head(20)"
   ]
  },
  {
   "cell_type": "code",
   "execution_count": 35,
   "id": "3869a356",
   "metadata": {},
   "outputs": [],
   "source": [
    "#Vectorisation\n",
    "\n",
    "#toSave = normal\n",
    "\n",
    "#toSave.drop(['label', 'backup', 'char_count', 'word_count', 'avg_word_len', 'stopwords_count', 'specials_count', 'numerics_count', 'uppers_count'], axis=1, inplace=True)\n",
    "\n",
    "#toSave.head()\n"
   ]
  },
  {
   "cell_type": "code",
   "execution_count": 36,
   "id": "f789719e",
   "metadata": {},
   "outputs": [],
   "source": [
    "\n",
    "#toSave.to_csv('spam_clean.txt', index = False)\n",
    "\n",
    "#glove_input = ('spam_clean.txt')\n",
    "#word2vec_output = ('spam_clean.txt.word2vec')\n",
    "#glove2word2vec(glove_input, word2vec_output)\n"
   ]
  },
  {
   "cell_type": "code",
   "execution_count": 37,
   "id": "daf8ea8a",
   "metadata": {},
   "outputs": [
    {
     "data": {
      "text/plain": [
       "<5572x1000 sparse matrix of type '<class 'numpy.int64'>'\n",
       "\twith 30210 stored elements in Compressed Sparse Row format>"
      ]
     },
     "execution_count": 37,
     "metadata": {},
     "output_type": "execute_result"
    }
   ],
   "source": [
    "#Bag of words\n",
    "bow = CountVectorizer(max_features=1000, lowercase=True, ngram_range=(1,1),analyzer = \"word\")\n",
    "train_bow = bow.fit_transform(normal['content'])\n",
    "train_bow"
   ]
  },
  {
   "cell_type": "code",
   "execution_count": 38,
   "id": "04fadb2e",
   "metadata": {},
   "outputs": [
    {
     "name": "stdout",
     "output_type": "stream",
     "text": [
      "Shape of Sparse Matrix:  (5572, 1000)\n",
      "Amount of Non-Zero occurences:  30210\n"
     ]
    }
   ],
   "source": [
    "print('Shape of Sparse Matrix: ', train_bow.shape)\n",
    "print('Amount of Non-Zero occurences: ', train_bow.nnz)"
   ]
  },
  {
   "cell_type": "code",
   "execution_count": 39,
   "id": "3163745b",
   "metadata": {},
   "outputs": [],
   "source": [
    "#n-grams\n",
    "\n",
    "#TextBlob(normal['content'][0]).ngrams(2)"
   ]
  },
  {
   "cell_type": "code",
   "execution_count": 40,
   "id": "019a58a1",
   "metadata": {},
   "outputs": [
    {
     "data": {
      "text/html": [
       "<div>\n",
       "<style scoped>\n",
       "    .dataframe tbody tr th:only-of-type {\n",
       "        vertical-align: middle;\n",
       "    }\n",
       "\n",
       "    .dataframe tbody tr th {\n",
       "        vertical-align: top;\n",
       "    }\n",
       "\n",
       "    .dataframe thead th {\n",
       "        text-align: right;\n",
       "    }\n",
       "</style>\n",
       "<table border=\"1\" class=\"dataframe\">\n",
       "  <thead>\n",
       "    <tr style=\"text-align: right;\">\n",
       "      <th></th>\n",
       "      <th>words</th>\n",
       "      <th>tf</th>\n",
       "      <th>idf</th>\n",
       "      <th>tf-idf</th>\n",
       "    </tr>\n",
       "  </thead>\n",
       "  <tbody>\n",
       "    <tr>\n",
       "      <th>0</th>\n",
       "      <td>wif</td>\n",
       "      <td>1</td>\n",
       "      <td>4.636525</td>\n",
       "      <td>4.636525</td>\n",
       "    </tr>\n",
       "    <tr>\n",
       "      <th>1</th>\n",
       "      <td>oni</td>\n",
       "      <td>1</td>\n",
       "      <td>4.125700</td>\n",
       "      <td>4.125700</td>\n",
       "    </tr>\n",
       "    <tr>\n",
       "      <th>2</th>\n",
       "      <td>joking</td>\n",
       "      <td>1</td>\n",
       "      <td>6.833750</td>\n",
       "      <td>6.833750</td>\n",
       "    </tr>\n",
       "    <tr>\n",
       "      <th>3</th>\n",
       "      <td>lar</td>\n",
       "      <td>1</td>\n",
       "      <td>4.335050</td>\n",
       "      <td>4.335050</td>\n",
       "    </tr>\n",
       "  </tbody>\n",
       "</table>\n",
       "</div>"
      ],
      "text/plain": [
       "    words  tf       idf    tf-idf\n",
       "0     wif   1  4.636525  4.636525\n",
       "1     oni   1  4.125700  4.125700\n",
       "2  joking   1  6.833750  6.833750\n",
       "3     lar   1  4.335050  4.335050"
      ]
     },
     "execution_count": 40,
     "metadata": {},
     "output_type": "execute_result"
    }
   ],
   "source": [
    "#TF-IDF\n",
    "tf1 = (normal['content'][1:2]).apply(lambda x: pd.value_counts(x.split(\" \"))).sum(axis = 0).reset_index()\n",
    "tf1.columns = ['words','tf']\n",
    "\n",
    "for i,word in enumerate(tf1['words']):\n",
    "  tf1.loc[i, 'idf'] = np.log(normal.shape[0]/(len(normal[normal['content'].str.contains(word)])))\n",
    "\n",
    "tf1['tf-idf'] = tf1['tf'] * tf1['idf']\n",
    "tf1"
   ]
  },
  {
   "cell_type": "code",
   "execution_count": 41,
   "id": "a7140ec7",
   "metadata": {},
   "outputs": [
    {
     "data": {
      "text/plain": [
       "<5572x1000 sparse matrix of type '<class 'numpy.float64'>'\n",
       "\twith 30210 stored elements in Compressed Sparse Row format>"
      ]
     },
     "execution_count": 41,
     "metadata": {},
     "output_type": "execute_result"
    }
   ],
   "source": [
    "tfidf_transformer = TfidfTransformer().fit(train_bow)\n",
    "train_vect = tfidf_transformer.transform(train_bow)\n",
    "train_vect"
   ]
  },
  {
   "cell_type": "code",
   "execution_count": 42,
   "id": "88216ae7",
   "metadata": {},
   "outputs": [],
   "source": [
    "#Modeling"
   ]
  },
  {
   "cell_type": "code",
   "execution_count": 43,
   "id": "a1a51b9b",
   "metadata": {},
   "outputs": [],
   "source": [
    "#split data\n",
    "train_x, valid_x, train_y, valid_y = model_selection.train_test_split(train_vect, normal['label'])\n",
    "\n",
    "# label encode the target variable \n",
    "encoder = preprocessing.LabelEncoder()\n",
    "train_y = encoder.fit_transform(train_y)\n",
    "valid_y = encoder.fit_transform(valid_y)"
   ]
  },
  {
   "cell_type": "code",
   "execution_count": 44,
   "id": "79c42eb4",
   "metadata": {},
   "outputs": [
    {
     "data": {
      "text/plain": [
       "array([0, 0, 0, 0, 0, 1, 0, 0, 0, 0, 0, 0, 0, 0, 0, 0, 0, 0, 1, 0, 0, 0,\n",
       "       0, 0, 0, 0, 0, 0, 0, 1, 1, 0, 0, 0, 0, 0, 0, 1, 0, 0, 0, 0, 0, 0,\n",
       "       0, 0, 0, 1, 0, 0, 0, 0, 0, 0, 0, 0, 1, 0, 0, 0, 0, 0, 0, 1, 0, 0,\n",
       "       0, 1, 0, 0, 0, 0, 0, 0, 0, 0, 1, 1, 0, 0, 1, 0, 0, 1, 0, 0, 0, 0,\n",
       "       0, 0, 0, 0, 0, 1, 0, 0, 0, 0, 0, 0, 0, 0, 0, 0, 0, 0, 0, 0, 0, 0,\n",
       "       0, 0, 0, 0, 0, 1, 0, 0, 1, 0, 0, 1, 0, 1, 0, 0, 1, 0, 0, 0, 0, 0,\n",
       "       0, 0, 1, 0, 0, 0, 0, 0, 0, 0, 0, 0, 0, 0, 1, 0, 0, 0, 0, 1, 0, 0,\n",
       "       0, 0, 0, 0, 0, 0, 0, 1, 0, 0, 0, 0, 0, 0, 0, 1, 0, 0, 0, 1, 1, 1,\n",
       "       0, 1, 0, 1, 0, 0, 0, 0, 0, 0, 0, 0, 0, 0, 0, 0, 0, 1, 0, 0, 0, 0,\n",
       "       1, 0])"
      ]
     },
     "execution_count": 44,
     "metadata": {},
     "output_type": "execute_result"
    }
   ],
   "source": [
    "train_y[0:200]"
   ]
  },
  {
   "cell_type": "code",
   "execution_count": 45,
   "id": "8632866b",
   "metadata": {},
   "outputs": [
    {
     "data": {
      "text/plain": [
       "<200x1000 sparse matrix of type '<class 'numpy.float64'>'\n",
       "\twith 1033 stored elements in Compressed Sparse Row format>"
      ]
     },
     "execution_count": 45,
     "metadata": {},
     "output_type": "execute_result"
    }
   ],
   "source": [
    "valid_x[0:200]"
   ]
  },
  {
   "cell_type": "code",
   "execution_count": 46,
   "id": "8d4e112f",
   "metadata": {},
   "outputs": [],
   "source": [
    "# create a tokenizer \n",
    "#token = train_vect.Tokenizer()\n",
    "#token.fit_on_texts(train_vect)\n",
    "#word_index = token.word_index\n",
    "#train_seq_x = sequence.pad_sequences(train_x, maxlen = 70)\n",
    "#valid_seq_x = sequence.pad_sequences(valid_x, maxlen = 70)"
   ]
  },
  {
   "cell_type": "code",
   "execution_count": 47,
   "id": "6d51643d",
   "metadata": {},
   "outputs": [],
   "source": [
    "#Training as SVC"
   ]
  },
  {
   "cell_type": "code",
   "execution_count": 48,
   "id": "b3673700",
   "metadata": {},
   "outputs": [],
   "source": [
    "from sklearn.svm import SVC"
   ]
  },
  {
   "cell_type": "code",
   "execution_count": 49,
   "id": "26c689fd",
   "metadata": {},
   "outputs": [],
   "source": [
    "clf = SVC()"
   ]
  },
  {
   "cell_type": "code",
   "execution_count": 50,
   "id": "f3843b4b",
   "metadata": {},
   "outputs": [
    {
     "data": {
      "text/plain": [
       "SVC(kernel='linear')"
      ]
     },
     "execution_count": 50,
     "metadata": {},
     "output_type": "execute_result"
    }
   ],
   "source": [
    "clf.set_params(kernel='linear').fit(train_x, train_y)  "
   ]
  },
  {
   "cell_type": "code",
   "execution_count": 51,
   "id": "752a0d1d",
   "metadata": {},
   "outputs": [],
   "source": [
    "t1 = clf.predict(valid_x)"
   ]
  },
  {
   "cell_type": "code",
   "execution_count": 52,
   "id": "db7724c9",
   "metadata": {},
   "outputs": [
    {
     "name": "stdout",
     "output_type": "stream",
     "text": [
      "              precision    recall  f1-score   support\n",
      "\n",
      "           0       0.99      1.00      0.99      1222\n",
      "           1       0.97      0.90      0.94       171\n",
      "\n",
      "    accuracy                           0.98      1393\n",
      "   macro avg       0.98      0.95      0.96      1393\n",
      "weighted avg       0.98      0.98      0.98      1393\n",
      "\n"
     ]
    }
   ],
   "source": [
    "print (classification_report(valid_y, t1))"
   ]
  },
  {
   "cell_type": "code",
   "execution_count": 53,
   "id": "77d979dd",
   "metadata": {},
   "outputs": [
    {
     "name": "stdout",
     "output_type": "stream",
     "text": [
      "              precision    recall  f1-score   support\n",
      "\n",
      "           0       0.97      1.00      0.99      1222\n",
      "           1       0.99      0.80      0.88       171\n",
      "\n",
      "    accuracy                           0.97      1393\n",
      "   macro avg       0.98      0.90      0.93      1393\n",
      "weighted avg       0.97      0.97      0.97      1393\n",
      "\n"
     ]
    }
   ],
   "source": [
    "clf.set_params(kernel='rbf', gamma=0.15).fit(train_x, train_y)\n",
    "t2 = clf.predict(valid_x)\n",
    "print (classification_report(valid_y, t2))"
   ]
  },
  {
   "cell_type": "code",
   "execution_count": 54,
   "id": "6755899e",
   "metadata": {},
   "outputs": [
    {
     "name": "stdout",
     "output_type": "stream",
     "text": [
      "              precision    recall  f1-score   support\n",
      "\n",
      "           0       0.99      1.00      0.99      1222\n",
      "           1       0.97      0.90      0.94       171\n",
      "\n",
      "    accuracy                           0.98      1393\n",
      "   macro avg       0.98      0.95      0.96      1393\n",
      "weighted avg       0.98      0.98      0.98      1393\n",
      "\n"
     ]
    }
   ],
   "source": [
    "clf.set_params(kernel='linear', gamma='scale').fit(train_x, train_y)\n",
    "t3 = clf.predict(valid_x)\n",
    "print (classification_report(valid_y, t3))"
   ]
  },
  {
   "cell_type": "code",
   "execution_count": null,
   "id": "fc5dd4cc",
   "metadata": {},
   "outputs": [],
   "source": [
    "clf.set_params(kernel='poly').fit(train_x, train_y)\n",
    "t4 = clf.predict(valid_x)\n",
    "print (classification_report(valid_y, t4))"
   ]
  },
  {
   "cell_type": "code",
   "execution_count": null,
   "id": "bac60978",
   "metadata": {},
   "outputs": [],
   "source": [
    "clf.set_params(kernel='sigmoid').fit(train_x, train_y)\n",
    "t5 = clf.predict(valid_x)\n",
    "print (classification_report(valid_y, t5))"
   ]
  },
  {
   "cell_type": "code",
   "execution_count": null,
   "id": "d4b2878c",
   "metadata": {},
   "outputs": [],
   "source": []
  },
  {
   "cell_type": "code",
   "execution_count": null,
   "id": "739db670",
   "metadata": {},
   "outputs": [],
   "source": []
  },
  {
   "cell_type": "code",
   "execution_count": null,
   "id": "492493f5",
   "metadata": {},
   "outputs": [],
   "source": [
    "train_model = MultinomialNB().fit(train_x, train_y)"
   ]
  },
  {
   "cell_type": "code",
   "execution_count": null,
   "id": "d6f8e4ce",
   "metadata": {},
   "outputs": [],
   "source": [
    "#Prediction"
   ]
  },
  {
   "cell_type": "code",
   "execution_count": null,
   "id": "745be528",
   "metadata": {},
   "outputs": [],
   "source": [
    "predicted = train_model.predict(valid_x)"
   ]
  },
  {
   "cell_type": "code",
   "execution_count": null,
   "id": "944f3b59",
   "metadata": {},
   "outputs": [],
   "source": [
    "#Evaluation"
   ]
  },
  {
   "cell_type": "code",
   "execution_count": null,
   "id": "b77d6d49",
   "metadata": {},
   "outputs": [],
   "source": [
    "print ( confusion_matrix(valid_y, predicted))\n",
    "print('\\n')\n",
    "print (classification_report(valid_y, predicted))"
   ]
  }
 ],
 "metadata": {
  "kernelspec": {
   "display_name": "Python 3",
   "language": "python",
   "name": "python3"
  },
  "language_info": {
   "codemirror_mode": {
    "name": "ipython",
    "version": 3
   },
   "file_extension": ".py",
   "mimetype": "text/x-python",
   "name": "python",
   "nbconvert_exporter": "python",
   "pygments_lexer": "ipython3",
   "version": "3.8.8"
  }
 },
 "nbformat": 4,
 "nbformat_minor": 5
}
